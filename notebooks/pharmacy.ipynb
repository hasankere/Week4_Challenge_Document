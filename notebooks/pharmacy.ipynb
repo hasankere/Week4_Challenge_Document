{
 "cells": [
  {
   "cell_type": "code",
   "execution_count": 4,
   "metadata": {},
   "outputs": [],
   "source": [
    "import pandas as pd\n",
    "import os\n",
    "import logging "
   ]
  },
  {
   "cell_type": "code",
   "execution_count": 8,
   "metadata": {},
   "outputs": [
    {
     "name": "stdout",
     "output_type": "stream",
     "text": [
      "store.csv processed and logged successfully.\n",
      "\n",
      "Contents of store.csv:\n",
      "   Store StoreType Assortment  CompetitionDistance  CompetitionOpenSinceMonth  \\\n",
      "0      1         c          a               1270.0                        9.0   \n",
      "1      2         a          a                570.0                       11.0   \n",
      "2      3         a          a              14130.0                       12.0   \n",
      "3      4         c          c                620.0                        9.0   \n",
      "4      5         a          a              29910.0                        4.0   \n",
      "\n",
      "   CompetitionOpenSinceYear  Promo2  Promo2SinceWeek  Promo2SinceYear  \\\n",
      "0                    2008.0       0              NaN              NaN   \n",
      "1                    2007.0       1             13.0           2010.0   \n",
      "2                    2006.0       1             14.0           2011.0   \n",
      "3                    2009.0       0              NaN              NaN   \n",
      "4                    2015.0       0              NaN              NaN   \n",
      "\n",
      "     PromoInterval  \n",
      "0              NaN  \n",
      "1  Jan,Apr,Jul,Oct  \n",
      "2  Jan,Apr,Jul,Oct  \n",
      "3              NaN  \n",
      "4              NaN  \n",
      "test.csv processed and logged successfully.\n",
      "\n",
      "Contents of test.csv:\n",
      "   Id  Store  DayOfWeek        Date  Open  Promo StateHoliday  SchoolHoliday\n",
      "0   1      1          4  2015-09-17   1.0      1            0              0\n",
      "1   2      3          4  2015-09-17   1.0      1            0              0\n",
      "2   3      7          4  2015-09-17   1.0      1            0              0\n",
      "3   4      8          4  2015-09-17   1.0      1            0              0\n",
      "4   5      9          4  2015-09-17   1.0      1            0              0\n",
      "train.csv processed and logged successfully.\n",
      "\n",
      "Contents of train.csv:\n",
      "   Store  DayOfWeek        Date  Sales  Customers  Open  Promo StateHoliday  \\\n",
      "0      1          5  2015-07-31   5263        555     1      1            0   \n",
      "1      2          5  2015-07-31   6064        625     1      1            0   \n",
      "2      3          5  2015-07-31   8314        821     1      1            0   \n",
      "3      4          5  2015-07-31  13995       1498     1      1            0   \n",
      "4      5          5  2015-07-31   4822        559     1      1            0   \n",
      "\n",
      "   SchoolHoliday  \n",
      "0              1  \n",
      "1              1  \n",
      "2              1  \n",
      "3              1  \n",
      "4              1  \n"
     ]
    },
    {
     "name": "stderr",
     "output_type": "stream",
     "text": [
      "C:\\Users\\Hasan\\AppData\\Local\\Temp\\ipykernel_9112\\2789875488.py:18: DtypeWarning: Columns (7) have mixed types. Specify dtype option on import or set low_memory=False.\n",
      "  df = pd.read_csv(file_path)  # Read the CSV file\n"
     ]
    }
   ],
   "source": [
    "\n",
    "# Set up logging\n",
    "logging.basicConfig(\n",
    "    filename=\"datasets.log\",  # Log file name\n",
    "    level=logging.INFO,       # Log level\n",
    "    format=\"%(asctime)s - %(levelname)s - %(message)s\"\n",
    ")\n",
    "\n",
    "# Define the directory containing your datasets\n",
    "data = r\"C:\\Users\\Hasan\\Desktop\\week4\"\n",
    "\n",
    "# File names\n",
    "files = [\"store.csv\", \"test.csv\", \"train.csv\"]\n",
    "\n",
    "# Read and log datasets\n",
    "for file in files:\n",
    "    try:\n",
    "        file_path = os.path.join(data, file)\n",
    "        df = pd.read_csv(file_path)  # Read the CSV file\n",
    "        \n",
    "        # Log the file name and its contents (first few rows)\n",
    "        logging.info(f\"Contents of {file}:\\n{df.head().to_string(index=False)}\")\n",
    "        print(f\"{file} processed and logged successfully.\")\n",
    "        # Print the file's head to the console\n",
    "        print(f\"\\nContents of {file}:\")\n",
    "        print(df.head())\n",
    "    except Exception as e:\n",
    "        # Log any errors that occur during processing\n",
    "        logging.error(f\"Error processing {file}: {e}\")\n",
    "        print(f\"Error processing {file}. Check log for details.\")\n",
    "         \n",
    "\n"
   ]
  }
 ],
 "metadata": {
  "kernelspec": {
   "display_name": "base",
   "language": "python",
   "name": "python3"
  },
  "language_info": {
   "codemirror_mode": {
    "name": "ipython",
    "version": 3
   },
   "file_extension": ".py",
   "mimetype": "text/x-python",
   "name": "python",
   "nbconvert_exporter": "python",
   "pygments_lexer": "ipython3",
   "version": "3.10.15"
  }
 },
 "nbformat": 4,
 "nbformat_minor": 2
}
