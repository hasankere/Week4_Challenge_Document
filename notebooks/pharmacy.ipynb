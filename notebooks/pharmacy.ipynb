{
 "cells": [
  {
   "cell_type": "code",
   "execution_count": 19,
   "metadata": {},
   "outputs": [],
   "source": [
    "import pandas as pd\n",
    "import os\n",
    "import logging \n",
    "import matplotlib.pyplot as plt"
   ]
  },
  {
   "cell_type": "code",
   "execution_count": 20,
   "metadata": {},
   "outputs": [
    {
     "name": "stdout",
     "output_type": "stream",
     "text": [
      "store.csv processed and logged successfully.\n",
      "\n",
      "Contents of store.csv:\n",
      "   Store StoreType Assortment  CompetitionDistance  CompetitionOpenSinceMonth  \\\n",
      "0      1         c          a               1270.0                        9.0   \n",
      "1      2         a          a                570.0                       11.0   \n",
      "2      3         a          a              14130.0                       12.0   \n",
      "3      4         c          c                620.0                        9.0   \n",
      "4      5         a          a              29910.0                        4.0   \n",
      "\n",
      "   CompetitionOpenSinceYear  Promo2  Promo2SinceWeek  Promo2SinceYear  \\\n",
      "0                    2008.0       0              NaN              NaN   \n",
      "1                    2007.0       1             13.0           2010.0   \n",
      "2                    2006.0       1             14.0           2011.0   \n",
      "3                    2009.0       0              NaN              NaN   \n",
      "4                    2015.0       0              NaN              NaN   \n",
      "\n",
      "     PromoInterval  \n",
      "0              NaN  \n",
      "1  Jan,Apr,Jul,Oct  \n",
      "2  Jan,Apr,Jul,Oct  \n",
      "3              NaN  \n",
      "4              NaN  \n",
      "test.csv processed and logged successfully.\n",
      "\n",
      "Contents of test.csv:\n",
      "   Id  Store  DayOfWeek        Date  Open  Promo StateHoliday  SchoolHoliday\n",
      "0   1      1          4  2015-09-17   1.0      1            0              0\n",
      "1   2      3          4  2015-09-17   1.0      1            0              0\n",
      "2   3      7          4  2015-09-17   1.0      1            0              0\n",
      "3   4      8          4  2015-09-17   1.0      1            0              0\n",
      "4   5      9          4  2015-09-17   1.0      1            0              0\n",
      "train.csv processed and logged successfully.\n",
      "\n",
      "Contents of train.csv:\n",
      "   Store  DayOfWeek        Date  Sales  Customers  Open  Promo StateHoliday  \\\n",
      "0      1          5  2015-07-31   5263        555     1      1            0   \n",
      "1      2          5  2015-07-31   6064        625     1      1            0   \n",
      "2      3          5  2015-07-31   8314        821     1      1            0   \n",
      "3      4          5  2015-07-31  13995       1498     1      1            0   \n",
      "4      5          5  2015-07-31   4822        559     1      1            0   \n",
      "\n",
      "   SchoolHoliday  \n",
      "0              1  \n",
      "1              1  \n",
      "2              1  \n",
      "3              1  \n",
      "4              1  \n"
     ]
    },
    {
     "name": "stderr",
     "output_type": "stream",
     "text": [
      "C:\\Users\\Hasan\\AppData\\Local\\Temp\\ipykernel_12856\\2789875488.py:18: DtypeWarning: Columns (7) have mixed types. Specify dtype option on import or set low_memory=False.\n",
      "  df = pd.read_csv(file_path)  # Read the CSV file\n"
     ]
    }
   ],
   "source": [
    "\n",
    "# Set up logging\n",
    "logging.basicConfig(\n",
    "    filename=\"datasets.log\",  # Log file name\n",
    "    level=logging.INFO,       # Log level\n",
    "    format=\"%(asctime)s - %(levelname)s - %(message)s\"\n",
    ")\n",
    "\n",
    "# Define the directory containing your datasets\n",
    "data = r\"C:\\Users\\Hasan\\Desktop\\week4\"\n",
    "\n",
    "# File names\n",
    "files = [\"store.csv\", \"test.csv\", \"train.csv\"]\n",
    "\n",
    "# Read and log datasets\n",
    "for file in files:\n",
    "    try:\n",
    "        file_path = os.path.join(data, file)\n",
    "        df = pd.read_csv(file_path)  # Read the CSV file\n",
    "        \n",
    "        # Log the file name and its contents (first few rows)\n",
    "        logging.info(f\"Contents of {file}:\\n{df.head().to_string(index=False)}\")\n",
    "        print(f\"{file} processed and logged successfully.\")\n",
    "        # Print the file's head to the console\n",
    "        print(f\"\\nContents of {file}:\")\n",
    "        print(df.head())\n",
    "    except Exception as e:\n",
    "        # Log any errors that occur during processing\n",
    "        logging.error(f\"Error processing {file}: {e}\")\n",
    "        print(f\"Error processing {file}. Check log for details.\")\n",
    "         \n",
    "\n"
   ]
  },
  {
   "cell_type": "code",
   "execution_count": 21,
   "metadata": {},
   "outputs": [
    {
     "name": "stderr",
     "output_type": "stream",
     "text": [
      "C:\\Users\\Hasan\\AppData\\Local\\Temp\\ipykernel_12856\\2009736665.py:15: DtypeWarning: Columns (7) have mixed types. Specify dtype option on import or set low_memory=False.\n",
      "  train_df = pd.read_csv(train_file)\n"
     ]
    },
    {
     "name": "stdout",
     "output_type": "stream",
     "text": [
      "\n",
      "Promotion distribution in train.csv (%):\n",
      "Promo\n",
      "0    61.848548\n",
      "1    38.151452\n",
      "Name: proportion, dtype: float64\n",
      "\n",
      "Promotion distribution in test.csv (%):\n",
      "Promo\n",
      "0    60.416667\n",
      "1    39.583333\n",
      "Name: proportion, dtype: float64\n"
     ]
    },
    {
     "data": {
      "image/png": "[encoded data removed]",
      "text/plain": [
       "<Figure size 1000x500 with 1 Axes>"
      ]
     },
     "metadata": {},
     "output_type": "display_data"
    }
   ],
   "source": [
    "\n",
    "# Set up logging\n",
    "logging.basicConfig(\n",
    "    filename=\"promo_comparison.log\",\n",
    "    level=logging.INFO,\n",
    "    format=\"%(asctime)s - %(levelname)s - %(message)s\"\n",
    ")\n",
    "\n",
    "# File paths\n",
    "data = r\"C:\\Users\\Hasan\\Desktop\\week4\"\n",
    "train_file = os.path.join(data, \"train.csv\")\n",
    "test_file = os.path.join(data, \"test.csv\")\n",
    "\n",
    "try:\n",
    "    # Load datasets\n",
    "    train_df = pd.read_csv(train_file)\n",
    "    test_df = pd.read_csv(test_file)\n",
    "\n",
    "    # Check if 'Promo' column exists in both datasets\n",
    "    if 'Promo' in train_df.columns and 'Promo' in test_df.columns:\n",
    "        # Calculate the distribution of 'Promo' for train and test datasets\n",
    "        train_promo_dist = train_df['Promo'].value_counts(normalize=True) * 100\n",
    "        test_promo_dist = test_df['Promo'].value_counts(normalize=True) * 100\n",
    "\n",
    "        # Log the distributions\n",
    "        logging.info(\"Promotion distribution in train.csv:\\n\" + train_promo_dist.to_string())\n",
    "        logging.info(\"Promotion distribution in test.csv:\\n\" + test_promo_dist.to_string())\n",
    "\n",
    "        # Print the distributions to the console\n",
    "        print(\"\\nPromotion distribution in train.csv (%):\")\n",
    "        print(train_promo_dist)\n",
    "\n",
    "        print(\"\\nPromotion distribution in test.csv (%):\")\n",
    "        print(test_promo_dist)\n",
    "\n",
    "        # Compare the distributions visually\n",
    "        plt.figure(figsize=(10, 5))\n",
    "        plt.bar(train_promo_dist.index - 0.2, train_promo_dist.values, width=0.4, label='Train', color='blue')\n",
    "        plt.bar(test_promo_dist.index + 0.2, test_promo_dist.values, width=0.4, label='Test', color='purple')\n",
    "        plt.title(\"Promotion Distribution Comparison\")\n",
    "        plt.xlabel(\"Promo\")\n",
    "        plt.ylabel(\"Percentage\")\n",
    "        plt.xticks([0, 1], labels=[\"Not in Promo (0)\", \"In Promo (1)\"])\n",
    "        plt.legend()\n",
    "        plt.show()\n",
    "    else:\n",
    "        if 'Promo' not in train_df.columns:\n",
    "            logging.warning(\"'Promo' column not found in train.csv.\")\n",
    "            print(\"'Promo' column not found in train.csv.\")\n",
    "        if 'Promo' not in test_df.columns:\n",
    "            logging.warning(\"'Promo' column not found in test.csv.\")\n",
    "            print(\"'Promo' column not found in test.csv.\")\n",
    "except Exception as e:\n",
    "    logging.error(f\"Error comparing Promo distribution: {e}\")\n",
    "    print(f\"Error comparing Promo distribution. Check log for details.\")\n"
   ]
  }
 ],
 "metadata": {
  "kernelspec": {
   "display_name": "base",
   "language": "python",
   "name": "python3"
  },
  "language_info": {
   "codemirror_mode": {
    "name": "ipython",
    "version": 3
   },
   "file_extension": ".py",
   "mimetype": "text/x-python",
   "name": "python",
   "nbconvert_exporter": "python",
   "pygments_lexer": "ipython3",
   "version": "3.10.15"
  }
 },
 "nbformat": 4,
 "nbformat_minor": 2
}
