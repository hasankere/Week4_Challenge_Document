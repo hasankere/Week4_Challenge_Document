{
 "cells": [
  {
   "cell_type": "code",
   "execution_count": 4,
   "metadata": {},
   "outputs": [],
   "source": [
    "import pandas as pd\n",
    "import os\n",
    "import logging "
   ]
  },
  {
   "cell_type": "code",
   "execution_count": 5,
   "metadata": {},
   "outputs": [
    {
     "name": "stdout",
     "output_type": "stream",
     "text": [
      "store.csv processed and logged successfully.\n",
      "test.csv processed and logged successfully.\n",
      "train.csv processed and logged successfully.\n"
     ]
    },
    {
     "name": "stderr",
     "output_type": "stream",
     "text": [
      "C:\\Users\\Hasan\\AppData\\Local\\Temp\\ipykernel_9112\\1858368225.py:18: DtypeWarning: Columns (7) have mixed types. Specify dtype option on import or set low_memory=False.\n",
      "  df = pd.read_csv(file_path)  # Read the CSV file\n"
     ]
    }
   ],
   "source": [
    "\n",
    "# Set up logging\n",
    "logging.basicConfig(\n",
    "    filename=\"datasets.log\",  # Log file name\n",
    "    level=logging.INFO,       # Log level\n",
    "    format=\"%(asctime)s - %(levelname)s - %(message)s\"\n",
    ")\n",
    "\n",
    "# Define the directory containing your datasets\n",
    "data = r\"C:\\Users\\Hasan\\Desktop\\week4\"\n",
    "\n",
    "# File names\n",
    "files = [\"store.csv\", \"test.csv\", \"train.csv\"]\n",
    "\n",
    "# Read and log datasets\n",
    "for file in files:\n",
    "    try:\n",
    "        file_path = os.path.join(data, file)\n",
    "        df = pd.read_csv(file_path)  # Read the CSV file\n",
    "\n",
    "        # Log the file name and its contents (first few rows)\n",
    "        logging.info(f\"Contents of {file}:\\n{df.head().to_string(index=False)}\")\n",
    "        print(f\"{file} processed and logged successfully.\")\n",
    "    except Exception as e:\n",
    "        # Log any errors that occur during processing\n",
    "        logging.error(f\"Error processing {file}: {e}\")\n",
    "        print(f\"Error processing {file}. Check log for details.\")\n",
    "\n"
   ]
  }
 ],
 "metadata": {
  "kernelspec": {
   "display_name": "base",
   "language": "python",
   "name": "python3"
  },
  "language_info": {
   "codemirror_mode": {
    "name": "ipython",
    "version": 3
   },
   "file_extension": ".py",
   "mimetype": "text/x-python",
   "name": "python",
   "nbconvert_exporter": "python",
   "pygments_lexer": "ipython3",
   "version": "3.10.15"
  }
 },
 "nbformat": 4,
 "nbformat_minor": 2
}
